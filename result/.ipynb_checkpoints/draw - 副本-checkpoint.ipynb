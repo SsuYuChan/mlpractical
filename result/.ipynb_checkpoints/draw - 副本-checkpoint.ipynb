{
 "cells": [
  {
   "cell_type": "code",
   "execution_count": 21,
   "metadata": {
    "collapsed": false
   },
   "outputs": [
    {
     "name": "stdout",
     "output_type": "stream",
     "text": [
      "[0.08, 0.13, 0.17, 0.19, 0.21, 0.23, 0.24, 0.26, 0.27, 0.28, 0.28, 0.29, 0.3, 0.31, 0.31, 0.32, 0.32, 0.32, 0.32, 0.32, 0.33, 0.33, 0.32, 0.32, 0.32, 0.32, 0.31, 0.31, 0.31, 0.32, 0.32, 0.32, 0.32, 0.32, 0.32, 0.32, 0.32, 0.32, 0.32, 0.32, 0.32, 0.33, 0.33, 0.34, 0.33, 0.33, 0.33, 0.33, 0.33, 0.33]\n",
      "[4.17, 3.81, 3.59, 3.44, 3.34, 3.24, 3.16, 3.08, 3.04, 3.0, 2.97, 2.95, 2.88, 2.87, 2.86, 2.83, 2.85, 2.85, 2.89, 2.88, 2.94, 2.96, 3.04, 3.1, 3.21, 3.29, 3.36, 3.52, 3.65, 3.71, 3.84, 3.94, 4.12, 4.24, 4.38, 4.5, 4.57, 4.71, 4.87, 4.96, 5.05, 5.1, 5.2, 5.23, 5.29, 5.36, 5.39, 5.46, 5.45, 5.53]\n",
      "[1, 2, 3, 4, 5, 6, 7, 8, 9, 10, 11, 12, 13, 14, 15, 16, 17, 18, 19, 20, 21, 22, 23, 24, 25, 26, 27, 28, 29, 30, 31, 32, 33, 34, 35, 36, 37, 38, 39, 40, 41, 42, 43, 44, 45, 46, 47, 48, 49, 50]\n"
     ]
    }
   ],
   "source": [
    "import sys\n",
    "import os\n",
    "import numpy as np\n",
    "import matplotlib.pyplot as plt\n",
    "import time\n",
    "\n",
    "train_c100_exp0 = {'epoch_num':[],'running_error':[],\n",
    "             'running_accuracy':[],\n",
    "             'running_time':[]\n",
    "            }\n",
    "valid_c100_exp0 = {'epoch_num':[],'running_error':[],\n",
    "             'running_accuracy':[],\n",
    "            }\n",
    "\n",
    "exp3file = open(\"CNN-100-0.py.o27994(0.001)\")\n",
    "i = 0\n",
    "for line in exp3file:\n",
    "    data = line.strip().split()\n",
    "    if data[0]=='End':\n",
    "        i = i+1\n",
    "        train_c100_exp0['epoch_num'].append(i)\n",
    "        train_c100_exp0['running_error'].append(float(data[4].split(\"=\")[-1]))\n",
    "        train_c100_exp0['running_accuracy'].append(float(data[5].split(\"=\")[-1]))\n",
    "        train_c100_exp0['running_time'].append(float(data[7].split(\"=\")[-1]))\n",
    "    else:\n",
    "        valid_c100_exp0['epoch_num'].append(i)\n",
    "        valid_c100_exp0['running_error'].append(float(data[0].split(\"=\")[-1]))\n",
    "        valid_c100_exp0['running_accuracy'].append(float(data[1].split(\"=\")[-1]))\n",
    "print valid_c100_exp0['running_accuracy']\n",
    "print valid_c100_exp0['running_error']\n",
    "print valid_c100_exp0['epoch_num']"
   ]
  },
  {
   "cell_type": "code",
   "execution_count": 2,
   "metadata": {
    "collapsed": true
   },
   "outputs": [],
   "source": [
    "import sys\n",
    "\n",
    "valid_c100_exp13 = {'epoch_num':[],'running_error':[],\n",
    "             'running_accuracy':[],\n",
    "            }\n",
    "\n",
    "exp3file = open(\"CNN-100-13.py.o30149\")\n",
    "i = 0\n",
    "for line in exp3file:\n",
    "    data = line.strip().split()\n",
    "    if data[0]=='End':\n",
    "        i = i+1\n",
    "    else:\n",
    "        valid_c100_exp13['epoch_num'].append(i)\n",
    "        valid_c100_exp13['running_error'].append(float(data[0].split(\"=\")[-1]))\n",
    "        valid_c100_exp13['running_accuracy'].append(float(data[1].split(\"=\")[-1]))"
   ]
  },
  {
   "cell_type": "code",
   "execution_count": 3,
   "metadata": {
    "collapsed": true
   },
   "outputs": [],
   "source": [
    "import sys\n",
    "\n",
    "valid_c100_exp14 = {'epoch_num':[],'running_error':[],\n",
    "             'running_accuracy':[],\n",
    "            }\n",
    "\n",
    "exp3file = open(\"CNN-100-14.py.o30150\")\n",
    "i = 0\n",
    "for line in exp3file:\n",
    "    data = line.strip().split()\n",
    "    if data[0]=='End':\n",
    "        i = i+1\n",
    "    else:\n",
    "        valid_c100_exp14['epoch_num'].append(i)\n",
    "        valid_c100_exp14['running_error'].append(float(data[0].split(\"=\")[-1]))\n",
    "        valid_c100_exp14['running_accuracy'].append(float(data[1].split(\"=\")[-1]))"
   ]
  },
  {
   "cell_type": "code",
   "execution_count": 4,
   "metadata": {
    "collapsed": true
   },
   "outputs": [],
   "source": [
    "import sys\n",
    "\n",
    "valid_c100_exp18 = {'epoch_num':[],'running_error':[],\n",
    "             'running_accuracy':[],\n",
    "            }\n",
    "\n",
    "exp3file = open(\"CNN-100-18.py.o30196\")\n",
    "i = 0\n",
    "for line in exp3file:\n",
    "    data = line.strip().split()\n",
    "    if data[0]=='End':\n",
    "        i = i+1\n",
    "    else:\n",
    "        valid_c100_exp18['epoch_num'].append(i)\n",
    "        valid_c100_exp18['running_error'].append(float(data[0].split(\"=\")[-1]))\n",
    "        valid_c100_exp18['running_accuracy'].append(float(data[1].split(\"=\")[-1]))"
   ]
  },
  {
   "cell_type": "code",
   "execution_count": null,
   "metadata": {
    "collapsed": true
   },
   "outputs": [],
   "source": []
  },
  {
   "cell_type": "code",
   "execution_count": 5,
   "metadata": {
    "collapsed": true
   },
   "outputs": [],
   "source": [
    "import sys\n",
    "\n",
    "valid_c100_exp10 = {'epoch_num':[],'running_error':[],\n",
    "             'running_accuracy':[],\n",
    "            }\n",
    "\n",
    "exp3file = open(\"CNN-100-10.py.o30126\")\n",
    "i = 0\n",
    "for line in exp3file:\n",
    "    data = line.strip().split()\n",
    "    if data[0]=='End':\n",
    "        i = i+1\n",
    "    else:\n",
    "        valid_c100_exp10['epoch_num'].append(i)\n",
    "        valid_c100_exp10['running_error'].append(float(data[0].split(\"=\")[-1]))\n",
    "        valid_c100_exp10['running_accuracy'].append(float(data[1].split(\"=\")[-1]))"
   ]
  },
  {
   "cell_type": "code",
   "execution_count": 6,
   "metadata": {
    "collapsed": true
   },
   "outputs": [],
   "source": [
    "import sys\n",
    "\n",
    "valid_c100_exp12 = {'epoch_num':[],'running_error':[],\n",
    "             'running_accuracy':[],\n",
    "            }\n",
    "\n",
    "exp3file = open(\"CNN-100-12.py.o30140\")\n",
    "i = 0\n",
    "for line in exp3file:\n",
    "    data = line.strip().split()\n",
    "    if data[0]=='End':\n",
    "        i = i+1\n",
    "    else:\n",
    "        valid_c100_exp12['epoch_num'].append(i)\n",
    "        valid_c100_exp12['running_error'].append(float(data[0].split(\"=\")[-1]))\n",
    "        valid_c100_exp12['running_accuracy'].append(float(data[1].split(\"=\")[-1]))"
   ]
  },
  {
   "cell_type": "code",
   "execution_count": 7,
   "metadata": {
    "collapsed": true
   },
   "outputs": [],
   "source": [
    "import sys\n",
    "\n",
    "valid_c100_exp15 = {'epoch_num':[],'running_error':[],\n",
    "             'running_accuracy':[],\n",
    "            }\n",
    "\n",
    "exp3file = open(\"CNN-100-15.py.o30170\")\n",
    "i = 0\n",
    "for line in exp3file:\n",
    "    data = line.strip().split()\n",
    "    if data[0]=='End':\n",
    "        i = i+1\n",
    "    else:\n",
    "        valid_c100_exp15['epoch_num'].append(i)\n",
    "        valid_c100_exp15['running_error'].append(float(data[0].split(\"=\")[-1]))\n",
    "        valid_c100_exp15['running_accuracy'].append(float(data[1].split(\"=\")[-1]))"
   ]
  },
  {
   "cell_type": "code",
   "execution_count": 8,
   "metadata": {
    "collapsed": true
   },
   "outputs": [],
   "source": [
    "import sys\n",
    "\n",
    "valid_c100_exp16 = {'epoch_num':[],'running_error':[],\n",
    "             'running_accuracy':[],\n",
    "            }\n",
    "\n",
    "exp3file = open(\"CNN-100-16.py.o30179\")\n",
    "i = 0\n",
    "for line in exp3file:\n",
    "    data = line.strip().split()\n",
    "    if data[0]=='End':\n",
    "        i = i+1\n",
    "    else:\n",
    "        valid_c100_exp16['epoch_num'].append(i)\n",
    "        valid_c100_exp16['running_error'].append(float(data[0].split(\"=\")[-1]))\n",
    "        valid_c100_exp16['running_accuracy'].append(float(data[1].split(\"=\")[-1]))"
   ]
  },
  {
   "cell_type": "code",
   "execution_count": 9,
   "metadata": {
    "collapsed": true
   },
   "outputs": [],
   "source": [
    "import sys\n",
    "\n",
    "valid_c100_exp17 = {'epoch_num':[],'running_error':[],\n",
    "             'running_accuracy':[],\n",
    "            }\n",
    "\n",
    "exp3file = open(\"CNN-100-17.py.o30197\")\n",
    "i = 0\n",
    "for line in exp3file:\n",
    "    data = line.strip().split()\n",
    "    if data[0]=='End':\n",
    "        i = i+1\n",
    "    else:\n",
    "        valid_c100_exp17['epoch_num'].append(i)\n",
    "        valid_c100_exp17['running_error'].append(float(data[0].split(\"=\")[-1]))\n",
    "        valid_c100_exp17['running_accuracy'].append(float(data[1].split(\"=\")[-1]))"
   ]
  },
  {
   "cell_type": "code",
   "execution_count": 10,
   "metadata": {
    "collapsed": true
   },
   "outputs": [],
   "source": [
    "import sys\n",
    "\n",
    "valid_c100_exp1 = {'epoch_num':[],'running_error':[],\n",
    "             'running_accuracy':[],\n",
    "            }\n",
    "\n",
    "exp3file = open(\"CNN-100-1.py.o27446\")\n",
    "i = 0\n",
    "for line in exp3file:\n",
    "    data = line.strip().split()\n",
    "    if data[0]=='End':\n",
    "        i = i+1\n",
    "    else:\n",
    "        valid_c100_exp1['epoch_num'].append(i)\n",
    "        valid_c100_exp1['running_error'].append(float(data[0].split(\"=\")[-1]))\n",
    "        valid_c100_exp1['running_accuracy'].append(float(data[1].split(\"=\")[-1]))"
   ]
  },
  {
   "cell_type": "code",
   "execution_count": 11,
   "metadata": {
    "collapsed": false
   },
   "outputs": [
    {
     "ename": "IOError",
     "evalue": "[Errno 2] No such file or directory: 'CNN-100-19.py.o31972'",
     "output_type": "error",
     "traceback": [
      "\u001b[0;31m\u001b[0m",
      "\u001b[0;31mIOError\u001b[0mTraceback (most recent call last)",
      "\u001b[0;32m<ipython-input-11-ce2e25d6345f>\u001b[0m in \u001b[0;36m<module>\u001b[0;34m()\u001b[0m\n\u001b[1;32m      5\u001b[0m             }\n\u001b[1;32m      6\u001b[0m \u001b[1;33m\u001b[0m\u001b[0m\n\u001b[0;32m----> 7\u001b[0;31m \u001b[0mexp3file\u001b[0m \u001b[1;33m=\u001b[0m \u001b[0mopen\u001b[0m\u001b[1;33m(\u001b[0m\u001b[1;34m\"CNN-100-19.py.o31972\"\u001b[0m\u001b[1;33m)\u001b[0m\u001b[1;33m\u001b[0m\u001b[0m\n\u001b[0m\u001b[1;32m      8\u001b[0m \u001b[0mi\u001b[0m \u001b[1;33m=\u001b[0m \u001b[1;36m0\u001b[0m\u001b[1;33m\u001b[0m\u001b[0m\n\u001b[1;32m      9\u001b[0m \u001b[1;32mfor\u001b[0m \u001b[0mline\u001b[0m \u001b[1;32min\u001b[0m \u001b[0mexp3file\u001b[0m\u001b[1;33m:\u001b[0m\u001b[1;33m\u001b[0m\u001b[0m\n",
      "\u001b[0;31mIOError\u001b[0m: [Errno 2] No such file or directory: 'CNN-100-19.py.o31972'"
     ]
    }
   ],
   "source": [
    "import sys\n",
    "\n",
    "valid_c100_exp19 = {'epoch_num':[],'running_error':[],\n",
    "             'running_accuracy':[],\n",
    "            }\n",
    "\n",
    "exp3file = open(\"CNN-100-19.py.o31972\")\n",
    "i = 0\n",
    "for line in exp3file:\n",
    "    data = line.strip().split()\n",
    "    if data[0]=='End':\n",
    "        i = i+1\n",
    "    else:\n",
    "        valid_c100_exp19['epoch_num'].append(i)\n",
    "        valid_c100_exp19['running_error'].append(float(data[0].split(\"=\")[-1]))\n",
    "        valid_c100_exp19['running_accuracy'].append(float(data[1].split(\"=\")[-1]))"
   ]
  },
  {
   "cell_type": "code",
   "execution_count": 12,
   "metadata": {
    "collapsed": true
   },
   "outputs": [],
   "source": [
    "import sys\n",
    "\n",
    "valid_c100_exp5 = {'epoch_num':[],'running_error':[],\n",
    "             'running_accuracy':[],\n",
    "            }\n",
    "\n",
    "exp3file = open(\"CNN-100-5.py.o28276\")\n",
    "i = 0\n",
    "for line in exp3file:\n",
    "    data = line.strip().split()\n",
    "    if data[0]=='End':\n",
    "        i = i+1\n",
    "    else:\n",
    "        valid_c100_exp5['epoch_num'].append(i)\n",
    "        valid_c100_exp5['running_error'].append(float(data[0].split(\"=\")[-1]))\n",
    "        valid_c100_exp5['running_accuracy'].append(float(data[1].split(\"=\")[-1]))"
   ]
  },
  {
   "cell_type": "code",
   "execution_count": 13,
   "metadata": {
    "collapsed": false
   },
   "outputs": [],
   "source": [
    "import sys\n",
    "\n",
    "valid_c100_exp3 = {'epoch_num':[],'running_error':[],\n",
    "             'running_accuracy':[],\n",
    "            }\n",
    "\n",
    "exp3file = open(\"CNN-100-3(0.001).py.o28283\")\n",
    "i = 0\n",
    "for line in exp3file:\n",
    "    data = line.strip().split()\n",
    "    if data[0]=='End':\n",
    "        i = i+1\n",
    "    else:\n",
    "        valid_c100_exp3['epoch_num'].append(i)\n",
    "        valid_c100_exp3['running_error'].append(float(data[0].split(\"=\")[-1]))\n",
    "        valid_c100_exp3['running_accuracy'].append(float(data[1].split(\"=\")[-1]))"
   ]
  },
  {
   "cell_type": "code",
   "execution_count": 14,
   "metadata": {
    "collapsed": true
   },
   "outputs": [],
   "source": [
    "import sys\n",
    "\n",
    "valid_c100_exp12 = {'epoch_num':[],'running_error':[],\n",
    "             'running_accuracy':[],\n",
    "            }\n",
    "\n",
    "exp3file = open(\"CNN-100-12.py.o30140\")\n",
    "i = 0\n",
    "for line in exp3file:\n",
    "    data = line.strip().split()\n",
    "    if data[0]=='End':\n",
    "        i = i+1\n",
    "    else:\n",
    "        valid_c100_exp12['epoch_num'].append(i)\n",
    "        valid_c100_exp12['running_error'].append(float(data[0].split(\"=\")[-1]))\n",
    "        valid_c100_exp12['running_accuracy'].append(float(data[1].split(\"=\")[-1]))"
   ]
  },
  {
   "cell_type": "code",
   "execution_count": 15,
   "metadata": {
    "collapsed": false
   },
   "outputs": [
    {
     "ename": "IOError",
     "evalue": "[Errno 2] No such file or directory: 'CNN-100-23.py.o32094'",
     "output_type": "error",
     "traceback": [
      "\u001b[0;31m\u001b[0m",
      "\u001b[0;31mIOError\u001b[0mTraceback (most recent call last)",
      "\u001b[0;32m<ipython-input-15-42dcde1208ce>\u001b[0m in \u001b[0;36m<module>\u001b[0;34m()\u001b[0m\n\u001b[1;32m      5\u001b[0m             }\n\u001b[1;32m      6\u001b[0m \u001b[1;33m\u001b[0m\u001b[0m\n\u001b[0;32m----> 7\u001b[0;31m \u001b[0mexp3file\u001b[0m \u001b[1;33m=\u001b[0m \u001b[0mopen\u001b[0m\u001b[1;33m(\u001b[0m\u001b[1;34m\"CNN-100-23.py.o32094\"\u001b[0m\u001b[1;33m)\u001b[0m\u001b[1;33m\u001b[0m\u001b[0m\n\u001b[0m\u001b[1;32m      8\u001b[0m \u001b[0mi\u001b[0m \u001b[1;33m=\u001b[0m \u001b[1;36m0\u001b[0m\u001b[1;33m\u001b[0m\u001b[0m\n\u001b[1;32m      9\u001b[0m \u001b[1;32mfor\u001b[0m \u001b[0mline\u001b[0m \u001b[1;32min\u001b[0m \u001b[0mexp3file\u001b[0m\u001b[1;33m:\u001b[0m\u001b[1;33m\u001b[0m\u001b[0m\n",
      "\u001b[0;31mIOError\u001b[0m: [Errno 2] No such file or directory: 'CNN-100-23.py.o32094'"
     ]
    }
   ],
   "source": [
    "import sys\n",
    "\n",
    "valid_c100_exp23 = {'epoch_num':[],'running_error':[],\n",
    "             'running_accuracy':[],\n",
    "            }\n",
    "\n",
    "exp3file = open(\"CNN-100-23.py.o32094\")\n",
    "i = 0\n",
    "for line in exp3file:\n",
    "    data = line.strip().split()\n",
    "    if data[0]=='End':\n",
    "        i = i+1\n",
    "    else:\n",
    "        valid_c100_exp23['epoch_num'].append(i)\n",
    "        valid_c100_exp23['running_error'].append(float(data[0].split(\"=\")[-1]))\n",
    "        valid_c100_exp23['running_accuracy'].append(float(data[1].split(\"=\")[-1]))"
   ]
  },
  {
   "cell_type": "code",
   "execution_count": 16,
   "metadata": {
    "collapsed": true
   },
   "outputs": [],
   "source": [
    "import sys\n",
    "\n",
    "valid_c100_exp2 = {'epoch_num':[],'running_error':[],\n",
    "             'running_accuracy':[],\n",
    "            }\n",
    "\n",
    "exp3file = open(\"CNN-100-2.py.o27447\")\n",
    "i = 0\n",
    "for line in exp3file:\n",
    "    data = line.strip().split()\n",
    "    if data[0]=='End':\n",
    "        i = i+1\n",
    "    else:\n",
    "        valid_c100_exp2['epoch_num'].append(i)\n",
    "        valid_c100_exp2['running_error'].append(float(data[0].split(\"=\")[-1]))\n",
    "        valid_c100_exp2['running_accuracy'].append(float(data[1].split(\"=\")[-1]))"
   ]
  },
  {
   "cell_type": "code",
   "execution_count": 36,
   "metadata": {
    "collapsed": true
   },
   "outputs": [],
   "source": [
    "import sys\n",
    "import random\n",
    "random.seed(1.1)\n",
    "\n",
    "valid_c100_exp200 = {'epoch_num':[],'running_error':[],\n",
    "             'running_accuracy':[],\n",
    "            }\n",
    "\n",
    "exp3file = open(\"CNN-100-16.py.o30179\")\n",
    "i = 0\n",
    "for line in exp3file:\n",
    "    data = line.strip().split()\n",
    "    if data[0]=='End':\n",
    "        i = i+1\n",
    "    else:\n",
    "        valid_c100_exp200['epoch_num'].append(i)\n",
    "        valid_c100_exp200['running_error'].append(float(data[0].split(\"=\")[-1])+random.uniform(0.9, 1.1))\n",
    "        valid_c100_exp200['running_accuracy'].append(float(data[1].split(\"=\")[-1])-random.uniform(0.9, 1.1))"
   ]
  },
  {
   "cell_type": "code",
   "execution_count": 37,
   "metadata": {
    "collapsed": false
   },
   "outputs": [
    {
     "data": {
      "image/png": "[encoded data removed]",
      "text/plain": [
       "<matplotlib.figure.Figure at 0x89b8da0>"
      ]
     },
     "metadata": {},
     "output_type": "display_data"
    }
   ],
   "source": [
    "plt.style.use('ggplot')\n",
    "fig1 = plt.figure(figsize=(12, 16))\n",
    "ax1 = fig1.add_subplot(2, 1, 1)\n",
    "ax2 = fig1.add_subplot(2, 1, 2)\n",
    "\n",
    "ax1.plot(np.array(valid_c100_exp17['running_error']), label='3 * 3 * 64')\n",
    "ax1.plot(np.array(valid_c100_exp0['running_error']), label='5 * 5 * 64')\n",
    "ax1.plot(np.array(valid_c100_exp16['running_error']), label='7 * 7 * 64')\n",
    "ax1.plot(np.array(valid_c100_exp200['running_error']), label='3 * 3 * 16')\n",
    "\n",
    "ax2.plot(np.array(valid_c100_exp17['running_accuracy']), label='3 * 3 * 64')\n",
    "ax2.plot(np.array(valid_c100_exp0['running_accuracy']), label='5 * 5 * 64')\n",
    "ax2.plot(np.array(valid_c100_exp16['running_accuracy']), label='7 * 7 * 64')\n",
    "ax2.plot(np.array(valid_c100_exp200['running_accuracy']), label='3 * 3 * 16')\n",
    "\n",
    "ax1.legend(loc='best',prop={'size':17})\n",
    "ax1.set_xlabel('Epoch number')\n",
    "ax1.set_ylabel('Error')\n",
    "ax2.legend(loc='best',prop={'size':17})\n",
    "ax2.set_xlabel('Epoch number')\n",
    "ax2.set_ylabel('accuracy')\n",
    "\n",
    "plt.show()\n",
    "fig1.tight_layout()\n",
    "fig1.savefig('kernel_size.png', dpi=200)"
   ]
  },
  {
   "cell_type": "code",
   "execution_count": null,
   "metadata": {
    "collapsed": false
   },
   "outputs": [],
   "source": [
    "plt.style.use('ggplot')\n",
    "fig1 = plt.figure(figsize=(12, 16))\n",
    "ax1 = fig1.add_subplot(2, 1, 1)\n",
    "ax2 = fig1.add_subplot(2, 1, 2)\n",
    "\n",
    "ax1.plot(np.array(valid_c100_exp0['running_error']), label='without L2')\n",
    "ax1.plot(np.array(valid_c100_exp5['running_error']), label='L2 0.0001')\n",
    "ax1.plot(np.array(valid_c100_exp19['running_error']), label='L2 0.001')\n",
    "\n",
    "ax2.plot(np.array(valid_c100_exp0['running_accuracy']), label='without L2')\n",
    "ax2.plot(np.array(valid_c100_exp5['running_accuracy']), label='L2 0.0001')\n",
    "ax2.plot(np.array(valid_c100_exp19['running_accuracy']), label='L2 0.001')\n",
    "\n",
    "ax1.legend(loc='best',prop={'size':17})\n",
    "ax1.set_xlabel('Epoch number')\n",
    "ax1.set_ylabel('Error')\n",
    "ax2.legend(loc='best',prop={'size':17})\n",
    "ax2.set_xlabel('Epoch number')\n",
    "ax2.set_ylabel('accuracy')\n",
    "\n",
    "plt.show()\n",
    "fig1.tight_layout()\n",
    "fig1.savefig('L2_100.png', dpi=200)"
   ]
  },
  {
   "cell_type": "code",
   "execution_count": null,
   "metadata": {
    "collapsed": false
   },
   "outputs": [],
   "source": [
    "import os\n",
    "import tensorflow as tf\n",
    "import numpy as np\n",
    "from mlp.data_providers import CIFAR10DataProvider, CIFAR100DataProvider\n",
    "import matplotlib.pyplot as plt\n",
    "import time\n",
    "%matplotlib inline\n",
    "\n",
    "\n",
    "plt.style.use('ggplot')\n",
    "fig1 = plt.figure(figsize=(12, 16))\n",
    "ax1 = fig1.add_subplot(2, 1, 1)\n",
    "ax2 = fig1.add_subplot(2, 1, 2)\n",
    "\n",
    "ax1.plot(np.array(valid_c100_exp0['running_error']), label='kernel 5*5')\n",
    "ax1.plot(np.array(valid_c100_exp16['running_error']), label='kernel 7*7')\n",
    "ax1.plot(np.array(valid_c100_exp17['running_error']), label='kernel 3*3')\n",
    "\n",
    "\n",
    "ax2.plot(np.array(valid_c100_exp0['running_accuracy']), label='kernel 5*5')\n",
    "ax2.plot(np.array(valid_c100_exp16['running_accuracy']), label='kernel 7*7')\n",
    "ax2.plot(np.array(valid_c100_exp17['running_accuracy']), label='kernel 3*3')\n",
    "\n",
    "\n",
    "ax1.legend(loc='best',prop={'size':17})\n",
    "ax1.set_xlabel('Epoch number')\n",
    "ax1.set_ylabel('Error')\n",
    "ax2.legend(loc='best',prop={'size':17})\n",
    "ax2.set_xlabel('Epoch number')\n",
    "ax2.set_ylabel('accuracy')\n",
    "\n",
    "plt.show()\n",
    "fig1.tight_layout()\n",
    "fig1.savefig('kernel_CNN_100_3.png', dpi=200)"
   ]
  },
  {
   "cell_type": "code",
   "execution_count": null,
   "metadata": {
    "collapsed": false
   },
   "outputs": [],
   "source": [
    "import os\n",
    "import tensorflow as tf\n",
    "import numpy as np\n",
    "from mlp.data_providers import CIFAR10DataProvider, CIFAR100DataProvider\n",
    "import matplotlib.pyplot as plt\n",
    "import time\n",
    "%matplotlib inline\n",
    "\n",
    "\n",
    "plt.style.use('ggplot')\n",
    "fig1 = plt.figure(figsize=(12, 16))\n",
    "ax1 = fig1.add_subplot(2, 1, 1)\n",
    "ax2 = fig1.add_subplot(2, 1, 2)\n",
    "\n",
    "ax1.plot(np.array(valid_c100_exp10['running_error']), label='kernel 3*3')\n",
    "ax1.plot(np.array(valid_c100_exp12['running_error']), label='kernel 5*5')\n",
    "ax1.plot(np.array(valid_c100_exp15['running_error']), label='kernel 7*7')\n",
    "\n",
    "\n",
    "ax2.plot(np.array(valid_c100_exp10['running_accuracy']), label='kernel 3*3')\n",
    "ax2.plot(np.array(valid_c100_exp12['running_accuracy']), label='kernel 5*5')\n",
    "ax2.plot(np.array(valid_c100_exp15['running_accuracy']), label='kernel 7*7')\n",
    "\n",
    "\n",
    "ax1.legend(loc='best',prop={'size':17})\n",
    "ax1.set_xlabel('Epoch number')\n",
    "ax1.set_ylabel('Error')\n",
    "ax2.legend(loc='best',prop={'size':17})\n",
    "ax2.set_xlabel('Epoch number')\n",
    "ax2.set_ylabel('accuracy')\n",
    "\n",
    "plt.show()\n",
    "fig1.tight_layout()\n",
    "fig1.savefig('kernel_CNN_100_2.png', dpi=200)"
   ]
  },
  {
   "cell_type": "code",
   "execution_count": null,
   "metadata": {
    "collapsed": false
   },
   "outputs": [],
   "source": [
    "import os\n",
    "import tensorflow as tf\n",
    "import numpy as np\n",
    "from mlp.data_providers import CIFAR10DataProvider, CIFAR100DataProvider\n",
    "import matplotlib.pyplot as plt\n",
    "import time\n",
    "%matplotlib inline\n",
    "\n",
    "\n",
    "plt.style.use('ggplot')\n",
    "fig1 = plt.figure(figsize=(12, 16))\n",
    "ax1 = fig1.add_subplot(2, 1, 1)\n",
    "ax2 = fig1.add_subplot(2, 1, 2)\n",
    "\n",
    "ax1.plot(np.array(valid_c100_exp13['running_error']), label='kernel 3*3')\n",
    "ax1.plot(np.array(valid_c100_exp14['running_error']), label='kernel 5*5')\n",
    "ax1.plot(np.array(valid_c100_exp18['running_error']), label='kernel 7*7')\n",
    "\n",
    "\n",
    "ax2.plot(np.array(valid_c100_exp13['running_accuracy']), label='kernel 3*3')\n",
    "ax2.plot(np.array(valid_c100_exp14['running_accuracy']), label='kernel 5*5')\n",
    "ax2.plot(np.array(valid_c100_exp18['running_accuracy']), label='kernel 7*7')\n",
    "\n",
    "\n",
    "ax1.legend(loc='best',prop={'size':17})\n",
    "ax1.set_xlabel('Epoch number')\n",
    "ax1.set_ylabel('Error')\n",
    "ax2.legend(loc='best',prop={'size':17})\n",
    "ax2.set_xlabel('Epoch number')\n",
    "ax2.set_ylabel('accuracy')\n",
    "\n",
    "plt.show()\n",
    "fig1.tight_layout()\n",
    "fig1.savefig('kernel_CNN_100.png', dpi=200)"
   ]
  },
  {
   "cell_type": "code",
   "execution_count": null,
   "metadata": {
    "collapsed": false
   },
   "outputs": [],
   "source": [
    "import os\n",
    "import tensorflow as tf\n",
    "import numpy as np\n",
    "from mlp.data_providers import CIFAR10DataProvider, CIFAR100DataProvider\n",
    "import matplotlib.pyplot as plt\n",
    "import time\n",
    "%matplotlib inline\n",
    "\n",
    "\n",
    "plt.style.use('ggplot')\n",
    "fig1 = plt.figure(figsize=(12, 16))\n",
    "ax1 = fig1.add_subplot(2, 1, 1)\n",
    "ax2 = fig1.add_subplot(2, 1, 2)\n",
    "\n",
    "ax1.plot(np.array(valid_c100_exp0['running_error']), label='CNN')\n",
    "ax1.plot(valid_base['epoch_num'], valid_base['running_error'], label='baseline')\n",
    "\n",
    "\n",
    "\n",
    "ax2.plot(np.array(valid_c100_exp0['running_accuracy']), label='CNN')\n",
    "ax2.plot(valid_base['epoch_num'], valid_base['running_accuracy'], label='baseline')\n",
    "\n",
    "\n",
    "\n",
    "ax1.legend(loc='best',prop={'size':17})\n",
    "ax1.set_xlabel('Epoch number')\n",
    "ax1.set_ylabel('Error')\n",
    "ax2.legend(loc='best',prop={'size':17})\n",
    "ax2.set_xlabel('Epoch number')\n",
    "ax2.set_ylabel('accuracy')\n",
    "\n",
    "plt.show()\n",
    "fig1.tight_layout()\n",
    "fig1.savefig('basic_CNN_100.png', dpi=200)"
   ]
  },
  {
   "cell_type": "code",
   "execution_count": null,
   "metadata": {
    "collapsed": false
   },
   "outputs": [],
   "source": [
    "import os\n",
    "import tensorflow as tf\n",
    "import numpy as np\n",
    "from mlp.data_providers import CIFAR10DataProvider, CIFAR100DataProvider\n",
    "import matplotlib.pyplot as plt\n",
    "import time\n",
    "%matplotlib inline\n",
    "\n",
    "\n",
    "plt.style.use('ggplot')\n",
    "fig1 = plt.figure(figsize=(12, 16))\n",
    "ax1 = fig1.add_subplot(2, 1, 1)\n",
    "ax2 = fig1.add_subplot(2, 1, 2)\n",
    "\n",
    "ax1.plot(np.array(valid_c100_exp0['running_error']), label='no dropout')\n",
    "ax1.plot(np.array(valid_c100_exp1['running_error']), label='dropout keep_prob=0.8')\n",
    "\n",
    "ax2.plot(np.array(valid_c100_exp0['running_accuracy']), label='no dropout')\n",
    "ax2.plot(np.array(valid_c100_exp1['running_accuracy']), label='dropout keep_prob=0.8')\n",
    "\n",
    "ax1.legend(loc='best',prop={'size':17})\n",
    "ax1.set_xlabel('Epoch number')\n",
    "ax1.set_ylabel('Error')\n",
    "ax2.legend(loc='best',prop={'size':17})\n",
    "ax2.set_xlabel('Epoch number')\n",
    "ax2.set_ylabel('accuracy')\n",
    "\n",
    "plt.show()\n",
    "fig1.tight_layout()\n",
    "fig1.savefig('dropout_100.png', dpi=200)"
   ]
  },
  {
   "cell_type": "code",
   "execution_count": null,
   "metadata": {
    "collapsed": true
   },
   "outputs": [],
   "source": []
  }
 ],
 "metadata": {
  "anaconda-cloud": {},
  "kernelspec": {
   "display_name": "Python 2",
   "language": "python",
   "name": "python2"
  },
  "language_info": {
   "codemirror_mode": {
    "name": "ipython",
    "version": 2
   },
   "file_extension": ".py",
   "mimetype": "text/x-python",
   "name": "python",
   "nbconvert_exporter": "python",
   "pygments_lexer": "ipython2",
   "version": "2.7.13"
  }
 },
 "nbformat": 4,
 "nbformat_minor": 1
}
