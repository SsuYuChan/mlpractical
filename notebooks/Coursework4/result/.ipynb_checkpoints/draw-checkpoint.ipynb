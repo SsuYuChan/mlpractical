{
 "cells": [
  {
   "cell_type": "code",
   "execution_count": 9,
   "metadata": {
    "collapsed": false
   },
   "outputs": [
    {
     "ename": "KeyError",
     "evalue": "'running_time'",
     "output_type": "error",
     "traceback": [
      "\u001b[0;31m---------------------------------------------------------------------------\u001b[0m",
      "\u001b[0;31mKeyError\u001b[0m                                  Traceback (most recent call last)",
      "\u001b[0;32m<ipython-input-9-28d24396f4c9>\u001b[0m in \u001b[0;36m<module>\u001b[0;34m()\u001b[0m\n\u001b[1;32m     16\u001b[0m         \u001b[0mtrain_c100_exp0\u001b[0m\u001b[0;34m[\u001b[0m\u001b[0;34m'running_error'\u001b[0m\u001b[0;34m]\u001b[0m\u001b[0;34m.\u001b[0m\u001b[0mappend\u001b[0m\u001b[0;34m(\u001b[0m\u001b[0mfloat\u001b[0m\u001b[0;34m(\u001b[0m\u001b[0mdata\u001b[0m\u001b[0;34m[\u001b[0m\u001b[0;36m4\u001b[0m\u001b[0;34m]\u001b[0m\u001b[0;34m.\u001b[0m\u001b[0msplit\u001b[0m\u001b[0;34m(\u001b[0m\u001b[0;34m\"=\"\u001b[0m\u001b[0;34m)\u001b[0m\u001b[0;34m[\u001b[0m\u001b[0;34m-\u001b[0m\u001b[0;36m1\u001b[0m\u001b[0;34m]\u001b[0m\u001b[0;34m)\u001b[0m\u001b[0;34m)\u001b[0m\u001b[0;34m\u001b[0m\u001b[0m\n\u001b[1;32m     17\u001b[0m         \u001b[0mtrain_c100_exp0\u001b[0m\u001b[0;34m[\u001b[0m\u001b[0;34m'running_accuracy'\u001b[0m\u001b[0;34m]\u001b[0m\u001b[0;34m.\u001b[0m\u001b[0mappend\u001b[0m\u001b[0;34m(\u001b[0m\u001b[0mfloat\u001b[0m\u001b[0;34m(\u001b[0m\u001b[0mdata\u001b[0m\u001b[0;34m[\u001b[0m\u001b[0;36m5\u001b[0m\u001b[0;34m]\u001b[0m\u001b[0;34m.\u001b[0m\u001b[0msplit\u001b[0m\u001b[0;34m(\u001b[0m\u001b[0;34m\"=\"\u001b[0m\u001b[0;34m)\u001b[0m\u001b[0;34m[\u001b[0m\u001b[0;34m-\u001b[0m\u001b[0;36m1\u001b[0m\u001b[0;34m]\u001b[0m\u001b[0;34m)\u001b[0m\u001b[0;34m)\u001b[0m\u001b[0;34m\u001b[0m\u001b[0m\n\u001b[0;32m---> 18\u001b[0;31m         \u001b[0mtrain_c100_exp0\u001b[0m\u001b[0;34m[\u001b[0m\u001b[0;34m'running_time'\u001b[0m\u001b[0;34m]\u001b[0m\u001b[0;34m.\u001b[0m\u001b[0mappend\u001b[0m\u001b[0;34m(\u001b[0m\u001b[0mfloat\u001b[0m\u001b[0;34m(\u001b[0m\u001b[0mdata\u001b[0m\u001b[0;34m[\u001b[0m\u001b[0;36m7\u001b[0m\u001b[0;34m]\u001b[0m\u001b[0;34m.\u001b[0m\u001b[0msplit\u001b[0m\u001b[0;34m(\u001b[0m\u001b[0;34m\"=\"\u001b[0m\u001b[0;34m)\u001b[0m\u001b[0;34m[\u001b[0m\u001b[0;34m-\u001b[0m\u001b[0;36m1\u001b[0m\u001b[0;34m]\u001b[0m\u001b[0;34m)\u001b[0m\u001b[0;34m)\u001b[0m\u001b[0;34m\u001b[0m\u001b[0m\n\u001b[0m\u001b[1;32m     19\u001b[0m     \u001b[0;32melse\u001b[0m\u001b[0;34m:\u001b[0m\u001b[0;34m\u001b[0m\u001b[0m\n\u001b[1;32m     20\u001b[0m         \u001b[0mvalid_c100_exp0\u001b[0m\u001b[0;34m[\u001b[0m\u001b[0;34m'running_error'\u001b[0m\u001b[0;34m]\u001b[0m\u001b[0;34m.\u001b[0m\u001b[0mappend\u001b[0m\u001b[0;34m(\u001b[0m\u001b[0mfloat\u001b[0m\u001b[0;34m(\u001b[0m\u001b[0mdata\u001b[0m\u001b[0;34m[\u001b[0m\u001b[0;36m0\u001b[0m\u001b[0;34m]\u001b[0m\u001b[0;34m.\u001b[0m\u001b[0msplit\u001b[0m\u001b[0;34m(\u001b[0m\u001b[0;34m\"=\"\u001b[0m\u001b[0;34m)\u001b[0m\u001b[0;34m[\u001b[0m\u001b[0;34m-\u001b[0m\u001b[0;36m1\u001b[0m\u001b[0;34m]\u001b[0m\u001b[0;34m)\u001b[0m\u001b[0;34m)\u001b[0m\u001b[0;34m\u001b[0m\u001b[0m\n",
      "\u001b[0;31mKeyError\u001b[0m: 'running_time'"
     ]
    }
   ],
   "source": [
    "import sys\n",
    "\n",
    "train_c100_exp0 = {'running_error':[],\n",
    "             'running_accuracy':[],\n",
    "             'running_time':[]\n",
    "            }\n",
    "train_c100_exp0 = {'running_error':[],\n",
    "             'running_accuracy':[],\n",
    "            }\n",
    "\n",
    "exp3file = open(\"CNN-100-0.py.o27994(0.001)\")\n",
    "\n",
    "for line in exp3file:\n",
    "    data = line.strip().split()\n",
    "    if data[0]=='End':\n",
    "        train_c100_exp0['running_error'].append(float(data[4].split(\"=\")[-1]))\n",
    "        train_c100_exp0['running_accuracy'].append(float(data[5].split(\"=\")[-1]))\n",
    "        train_c100_exp0['running_time'].append(float(data[7].split(\"=\")[-1]))\n",
    "    else:\n",
    "        valid_c100_exp0['running_error'].append(float(data[0].split(\"=\")[-1]))\n",
    "        valid_c100_exp0['running_accuracy'].append(float(data[1].split(\"=\")[-1]))\n",
    "print valid_log_exp3['running_accuracy']"
   ]
  },
  {
   "cell_type": "code",
   "execution_count": null,
   "metadata": {
    "collapsed": true
   },
   "outputs": [],
   "source": [
    "import matplotlib.pyplot as plt\n",
    "%matplotlib inline\n",
    "\n",
    "\n",
    "plt.style.use('ggplot')\n",
    "fig1 = plt.figure(figsize=(12, 16))\n",
    "ax1 = fig1.add_subplot(2, 1, 1)\n",
    "ax2 = fig1.add_subplot(2, 1, 2)\n",
    "ax1.plot(np.array(train_c10_exp0['error']), label='train')\n",
    "ax1.plot(valid_c10_exp0['epoch'], valid_c10_exp0['error'], label='valid')\n",
    "\n",
    "ax2.plot(np.array(train_c10_exp0['accuracy']), label='train')\n",
    "ax2.plot(valid_c10_exp0['epoch'], valid_c10_exp0['accuracy'], label='valide')\n",
    "\n",
    "ax1.legend(loc='best')\n",
    "ax1.set_xlabel('Epoch number')\n",
    "ax1.set_ylabel('Error')\n",
    "ax2.legend(loc='best')\n",
    "ax2.set_xlabel('Epoch number')\n",
    "ax2.set_ylabel('accuracy')\n",
    "\n",
    "plt.show()\n",
    "fig1.tight_layout()\n",
    "fig1.savefig('regu_c_0.png', dpi=200)"
   ]
  }
 ],
 "metadata": {
  "anaconda-cloud": {},
  "kernelspec": {
   "display_name": "Python [conda env:mlp]",
   "language": "python",
   "name": "conda-env-mlp-py"
  },
  "language_info": {
   "codemirror_mode": {
    "name": "ipython",
    "version": 2
   },
   "file_extension": ".py",
   "mimetype": "text/x-python",
   "name": "python",
   "nbconvert_exporter": "python",
   "pygments_lexer": "ipython2",
   "version": "2.7.12"
  }
 },
 "nbformat": 4,
 "nbformat_minor": 1
}
